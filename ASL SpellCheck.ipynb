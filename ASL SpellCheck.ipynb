{
 "cells": [
  {
   "cell_type": "code",
   "execution_count": 2,
   "metadata": {},
   "outputs": [
    {
     "name": "stderr",
     "output_type": "stream",
     "text": [
      "WARNING: pip is being invoked by an old script wrapper. This will fail in a future version of pip.\n",
      "Please see https://github.com/pypa/pip/issues/5599 for advice on fixing the underlying issue.\n",
      "To avoid this problem you can invoke Python with '-m pip' instead of running pip directly.\n"
     ]
    },
    {
     "name": "stdout",
     "output_type": "stream",
     "text": [
      "Collecting symspellpy\n",
      "  Using cached symspellpy-6.7.6-py3-none-any.whl (2.6 MB)\n",
      "Collecting editdistpy>=0.1.3\n",
      "  Using cached editdistpy-0.1.3-cp38-cp38-win_amd64.whl (33 kB)\n",
      "Installing collected packages: editdistpy, symspellpy\n",
      "Successfully installed editdistpy-0.1.3 symspellpy-6.7.6\n"
     ]
    },
    {
     "data": {
      "text/plain": [
       "0"
      ]
     },
     "execution_count": 2,
     "metadata": {},
     "output_type": "execute_result"
    }
   ],
   "source": [
    "import pip\n",
    "pip.main(['install', 'symspellpy'])"
   ]
  },
  {
   "cell_type": "code",
   "execution_count": 10,
   "metadata": {},
   "outputs": [],
   "source": [
    "import pkg_resources"
   ]
  },
  {
   "cell_type": "code",
   "execution_count": 31,
   "metadata": {},
   "outputs": [],
   "source": [
    "from symspellpy.symspellpy import SymSpell, Verbosity"
   ]
  },
  {
   "cell_type": "code",
   "execution_count": 26,
   "metadata": {},
   "outputs": [
    {
     "data": {
      "text/plain": [
       "True"
      ]
     },
     "execution_count": 26,
     "metadata": {},
     "output_type": "execute_result"
    }
   ],
   "source": [
    "# Set max_dictionary_edit_distance to avoid spelling correction\n",
    "#sym_spell = SymSpell(max_dictionary_edit_distance=0, prefix_length=7)\n",
    "#dictionary_path = pkg_resources.resource_filename(\n",
    "#    \"symspellpy\", \"frequency_dictionary_en_82_765.txt\"\n",
    "#)\n",
    "# term_index is the column of the term and count_index is the\n",
    "# column of the term frequency\n",
    "#sym_spell.load_dictionary(dictionary_path, term_index=0, count_index=1)"
   ]
  },
  {
   "cell_type": "code",
   "execution_count": 78,
   "metadata": {},
   "outputs": [
    {
     "name": "stdout",
     "output_type": "stream",
     "text": [
      "hel o my name is michael\n",
      "[<symspellpy.suggest_item.SuggestItem object at 0x0000025510167460>]\n",
      "hel o my name is michael, 0, 0\n"
     ]
    }
   ],
   "source": [
    "#input1 = \"himynameismichael\"\n",
    "input2 = 'helomynameismichael'\n",
    "#result1 = sym_spell.word_segmentation(input1)\n",
    "#sym_spell = SymSpell(max_dictionary_edit_distance=0, prefix_length=5)\n",
    "#dictionary_path = pkg_resources.resource_filename(\n",
    " #   \"symspellpy\", \"frequency_dictionary_en_82_765.txt\"\n",
    "#)\n",
    "# term_index is the column of the term and count_index is the\n",
    "# column of the term frequency\n",
    "sym_spell = SymSpell(max_dictionary_edit_distance=0, prefix_length=5)\n",
    "\n",
    "sym_spell.load_dictionary(dictionary_path, term_index=0, count_index=1)\n",
    "\n",
    "segmented = sym_spell.word_segmentation(input2).corrected_string\n",
    "print(segmented)\n",
    "sym_spell = SymSpell(max_dictionary_edit_distance=2, prefix_length=5)\n",
    "\n",
    "\n",
    "result2 = sym_spell.lookup_compound(\n",
    "   segmented, max_edit_distance=2\n",
    ")\n",
    "\n",
    "print(result2)\n",
    "for suggestion in result2:\n",
    "    print(suggestion)\n"
   ]
  },
  {
   "cell_type": "code",
   "execution_count": null,
   "metadata": {},
   "outputs": [],
   "source": []
  }
 ],
 "metadata": {
  "kernelspec": {
   "display_name": "Python 3",
   "language": "python",
   "name": "python3"
  },
  "language_info": {
   "codemirror_mode": {
    "name": "ipython",
    "version": 3
   },
   "file_extension": ".py",
   "mimetype": "text/x-python",
   "name": "python",
   "nbconvert_exporter": "python",
   "pygments_lexer": "ipython3",
   "version": "3.8.3"
  }
 },
 "nbformat": 4,
 "nbformat_minor": 4
}
